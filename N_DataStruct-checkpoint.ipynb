{
 "cells": [
  {
   "cell_type": "markdown",
   "metadata": {},
   "source": [
    "Importing packages"
   ]
  },
  {
   "cell_type": "code",
   "execution_count": null,
   "metadata": {
    "collapsed": true
   },
   "outputs": [],
   "source": [
    "import numpy as np\n",
    "import pandas as pd\n",
    "import tensorflow as tf"
   ]
  },
  {
   "cell_type": "markdown",
   "metadata": {},
   "source": [
    "creating sensor array"
   ]
  },
  {
   "cell_type": "code",
   "execution_count": 2,
   "metadata": {
    "collapsed": true
   },
   "outputs": [],
   "source": [
    "AC = np.array((0,0,0)) # global reference,  is same as Array Center AC\n",
    "\n",
    "E00 = np.array((-3,-3,0)) # Electode 00 \n",
    "E01 = np.array((-3,-1,0))\n",
    "E02 = np.array((-3,1,0))\n",
    "E03 = np.array((-3,3,0))\n",
    "\n",
    "E04 = np.array((-1,-3,0))\n",
    "E05 = np.array((-1,-1,0))\n",
    "E06 = np.array((-1,1,0))\n",
    "E07 = np.array((-1,3,0))\n",
    "\n",
    "E08 = np.array((1,-3,0))\n",
    "E09 = np.array((1,-1,0))\n",
    "E10 = np.array((1,1,0))\n",
    "E11 = np.array((1,3,0))\n",
    "\n",
    "E12 = np.array((3,-3,0))\n",
    "E13 = np.array((3,-1,0))\n",
    "E14 = np.array((3,1,0))\n",
    "E15 = np.array((3,3,0))\n",
    "\n",
    "#A = numpy.array([[E0,E1,E2,E3],[E4,E5,E6,E7],[E8,E9,E10,E11],[E12,E13,E14,E15]])\n",
    "A = np.array([E00,E01,E02,E03,E04,E05,E06,E07,E08,E09,E10,E11,E12,E13,E14,E15,AC])"
   ]
  },
  {
   "cell_type": "markdown",
   "metadata": {},
   "source": [
    "Creating the vertical line containing "
   ]
  },
  {
   "cell_type": "code",
   "execution_count": 9,
   "metadata": {
    "collapsed": false
   },
   "outputs": [],
   "source": [
    "#V_Cline is vertical to the center of the sensor with z between 1 and 15\n",
    "n=3\n",
    "V_Cline = np.empty(shape=[0, n])\n",
    "\n",
    "for i in [float(f)  for f in range(1, 16, 1)]:\n",
    "    V_Cline = np.append(V_Cline, [[0, 0,i]], axis=0)"
   ]
  },
  {
   "cell_type": "code",
   "execution_count": null,
   "metadata": {
    "collapsed": true
   },
   "outputs": [],
   "source": []
  },
  {
   "cell_type": "markdown",
   "metadata": {},
   "source": [
    "All_pts = np.concatenate((L1, L2, L3, L4, L_1, L_2, L_3, L_4) , axis=0)\n",
    "hight = pd.DataFrame(Y_array, columns =['centerDist'])\n",
    "result =pd.concat([df, hight], axis=1) usefull addind the high array as collumn in the end (centerDist)"
   ]
  },
  {
   "cell_type": "code",
   "execution_count": null,
   "metadata": {
    "collapsed": true
   },
   "outputs": [],
   "source": []
  },
  {
   "cell_type": "code",
   "execution_count": null,
   "metadata": {
    "collapsed": true
   },
   "outputs": [],
   "source": []
  },
  {
   "cell_type": "code",
   "execution_count": null,
   "metadata": {
    "collapsed": true
   },
   "outputs": [],
   "source": []
  },
  {
   "cell_type": "code",
   "execution_count": null,
   "metadata": {
    "collapsed": true
   },
   "outputs": [],
   "source": []
  }
 ],
 "metadata": {
  "kernelspec": {
   "display_name": "Python 2",
   "language": "python",
   "name": "python2"
  },
  "language_info": {
   "codemirror_mode": {
    "name": "ipython",
    "version": 2
   },
   "file_extension": ".py",
   "mimetype": "text/x-python",
   "name": "python",
   "nbconvert_exporter": "python",
   "pygments_lexer": "ipython2",
   "version": "2.7.12"
  }
 },
 "nbformat": 4,
 "nbformat_minor": 2
}
